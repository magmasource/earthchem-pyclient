{
 "cells": [
  {
   "cell_type": "code",
   "execution_count": null,
   "metadata": {},
   "outputs": [],
   "source": [
    "import earthchem\n",
    "%matplotlib inline\n",
    "\n",
    "earthchem.__version__"
   ]
  },
  {
   "cell_type": "markdown",
   "metadata": {},
   "source": [
    "Make a rest client"
   ]
  },
  {
   "cell_type": "code",
   "execution_count": null,
   "metadata": {},
   "outputs": [],
   "source": [
    "# This returns no results for some reason\n",
    "q = earthchem.Query(author='klump')\n",
    "q.url"
   ]
  },
  {
   "cell_type": "markdown",
   "metadata": {},
   "source": [
    "How many records have we found?"
   ]
  },
  {
   "cell_type": "code",
   "execution_count": null,
   "metadata": {},
   "outputs": [],
   "source": [
    "q.count()"
   ]
  },
  {
   "cell_type": "code",
   "execution_count": null,
   "metadata": {},
   "outputs": [],
   "source": [
    "# Example 1 from docs (http://portal.earthchem.org/rest_search_documentation/)\n",
    "q = earthchem.Query(author='smith',searchtype='rowdata')\n",
    "q.count()"
   ]
  },
  {
   "cell_type": "code",
   "execution_count": null,
   "metadata": {},
   "outputs": [],
   "source": [
    "# Example 2 from docs\n",
    "q = earthchem.Query(polygon='-109.35 36.7875,-105.525 40.725,-104.5125 37.0125,-107.1 35.4375,-109.35 36.7875',searchtype='rowdata')\n",
    "q.count()"
   ]
  },
  {
   "cell_type": "code",
   "execution_count": null,
   "metadata": {},
   "outputs": [],
   "source": [
    "#Example 3 from docs\n",
    "q = earthchem.Query(north=49, east=-100, south=23, west=-124, minage=55, maxage=56, outputtype='staticmap')\n",
    "q.url\n"
   ]
  },
  {
   "cell_type": "code",
   "execution_count": null,
   "metadata": {},
   "outputs": [],
   "source": [
    "# Example 4 from docs\n",
    "q = earthchem.Query(polygon='-102.0515625%2039.968200778963,-95.3859375%2040.024450778963,-94.865625%2039.729138278963,-95.0765625%2039.518200778963,-94.5984375%2039.110388278963,-94.5984375%2036.958825778963,-102.0375%2036.986950778963,-102.0515625%2039.968200778963',searchtype='rowdata')\n",
    "q.count()"
   ]
  },
  {
   "cell_type": "markdown",
   "metadata": {},
   "source": [
    "Let's try another author"
   ]
  },
  {
   "cell_type": "code",
   "execution_count": null,
   "metadata": {},
   "outputs": [],
   "source": [
    "q = earthchem.Query(\n",
    "    author='barnes+s',\n",
    "    geologicalage='archean'\n",
    ")\n",
    "q.count()"
   ]
  },
  {
   "cell_type": "code",
   "execution_count": null,
   "metadata": {},
   "outputs": [],
   "source": [
    "# Frewer data than originally for some reason\n",
    "q = earthchem.Query(\n",
    "    author='barnes',\n",
    "    geologicalage='archean'\n",
    ")\n",
    "q.count()"
   ]
  },
  {
   "cell_type": "markdown",
   "metadata": {},
   "source": [
    "Get the first 50 records"
   ]
  },
  {
   "cell_type": "code",
   "execution_count": null,
   "metadata": {},
   "outputs": [],
   "source": [
    "df = q.dataframe()"
   ]
  },
  {
   "cell_type": "code",
   "execution_count": null,
   "metadata": {},
   "outputs": [],
   "source": [
    "df.head()"
   ]
  },
  {
   "cell_type": "code",
   "execution_count": null,
   "metadata": {},
   "outputs": [],
   "source": [
    "# Example 2 from docs (again)\n",
    "q = earthchem.Query(polygon='-109.35 36.7875,-105.525 40.725,-104.5125 37.0125,-107.1 35.4375,-109.35 36.7875',searchtype='rowdata',standarditems='yes')\n",
    "df = q.dataframe(max_rows=500)"
   ]
  },
  {
   "cell_type": "code",
   "execution_count": null,
   "metadata": {},
   "outputs": [],
   "source": [
    "import matplotlib.pyplot as plt"
   ]
  },
  {
   "cell_type": "code",
   "execution_count": null,
   "metadata": {},
   "outputs": [],
   "source": [
    "fig = df.mgo.hist()\n",
    "fig.set_xlabel('MgO (wt %)')\n",
    "fig.set_ylabel('Sample count')\n",
    "plt.savefig('../docs/resources/mgo.png')"
   ]
  },
  {
   "cell_type": "markdown",
   "metadata": {},
   "source": [
    "Now we can generate a plot of this data"
   ]
  },
  {
   "cell_type": "code",
   "execution_count": null,
   "metadata": {},
   "outputs": [],
   "source": [
    "%matplotlib inline\n",
    "\n",
    "df.plot('longitude', 'latitude', 'scatter')"
   ]
  },
  {
   "cell_type": "code",
   "execution_count": null,
   "metadata": {},
   "outputs": [],
   "source": [
    "df.plot('al2o3', 'mgo', 'scatter')"
   ]
  },
  {
   "cell_type": "code",
   "execution_count": null,
   "metadata": {},
   "outputs": [],
   "source": [
    "earthchem.plot.ternaryplot(df, components=['mgo', 'al2o3', 'cao'])\n",
    "plt.savefig('../docs/resources/ternary.png')"
   ]
  },
  {
   "cell_type": "code",
   "execution_count": null,
   "metadata": {},
   "outputs": [],
   "source": [
    "# Example 1 from docs (again)\n",
    "q = earthchem.Query(author='smith',searchtype='rowdata')\n",
    "df = q.dataframe(max_rows=500)"
   ]
  },
  {
   "cell_type": "code",
   "execution_count": null,
   "metadata": {},
   "outputs": [],
   "source": [
    "import numpy as np\n",
    "df['pm'] = np.nan"
   ]
  },
  {
   "cell_type": "code",
   "execution_count": null,
   "metadata": {},
   "outputs": [],
   "source": [
    "reels = [x.lower() for x in earthchem.geochem.REE(output='string')]\n",
    "earthchem.plot.spiderplot(df, components=reels)"
   ]
  },
  {
   "cell_type": "code",
   "execution_count": null,
   "metadata": {},
   "outputs": [],
   "source": []
  }
 ],
 "metadata": {
  "kernelspec": {
   "display_name": "Python 3",
   "language": "python",
   "name": "python3"
  },
  "language_info": {
   "codemirror_mode": {
    "name": "ipython",
    "version": 3
   },
   "file_extension": ".py",
   "mimetype": "text/x-python",
   "name": "python",
   "nbconvert_exporter": "python",
   "pygments_lexer": "ipython3",
   "version": "3.10.12"
  }
 },
 "nbformat": 4,
 "nbformat_minor": 2
}
