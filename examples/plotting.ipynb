{
 "cells": [
  {
   "cell_type": "code",
   "execution_count": null,
   "metadata": {},
   "outputs": [],
   "source": [
    "import pandas as pd\n",
    "import numpy as np\n",
    "import earthchem as ec\n",
    "import matplotlib.pyplot as plt\n",
    "from earthchem.formatting import cleanup_dataframe\n",
    "from earthchem.plot import spiderplot, ternaryplot, densityplot\n",
    "from earthchem.geochem import REE\n",
    "from pyrolite.util.plot import save_figure"
   ]
  },
  {
   "cell_type": "code",
   "execution_count": null,
   "metadata": {},
   "outputs": [],
   "source": [
    "q = ec.Query(author='Goldstein, S. B.; Francis, D. M.', journal='J. Petrol.')\n",
    "df = cleanup_dataframe(q.dataframe(max_rows=50), normalize_to='Chondrite_PON')\n"
   ]
  },
  {
   "cell_type": "code",
   "execution_count": null,
   "metadata": {},
   "outputs": [],
   "source": [
    "ax=None\n",
    "fig, ax = plt.subplots(1, 3, figsize=(12, 4))\n",
    "# This paper has sample names starting with a two-letter code\n",
    "for g, gdf in df.groupby(df['SampleID'].apply(lambda x: x[:2])):\n",
    "    if not pd.isna(gdf.loc[:, REE(output='string')]).values.all():\n",
    "        for ix, (plot, fill) in enumerate(([True, False], [False, True], [True, True])):\n",
    "            spiderplot(gdf, ax=ax[ix], alpha=0.4, plot=plot, fill=fill, components=REE(output='string'), label=g)\n",
    "\n",
    "ax[0].set_ylabel(\"Sample/Chondrite\")\n",
    "ax[-1].legend(frameon=False, markerscale=3)\n",
    "\n",
    "save_figure(fig, name='spiderplots', save_at=\"./../docs/resources\",save_fmts=['png'],)"
   ]
  },
  {
   "cell_type": "code",
   "execution_count": null,
   "metadata": {},
   "outputs": [],
   "source": [
    "oxides = ['MgO', 'CaO', 'SiO2']\n",
    "tax = ternaryplot(df, components=oxides, label='Goldstein and Francis');\n",
    "save_figure(tax.figure, name='ternary', save_at=\"./../docs/resources\",save_fmts=['png'],)"
   ]
  },
  {
   "cell_type": "code",
   "execution_count": null,
   "metadata": {},
   "outputs": [],
   "source": [
    "q = ec.Query(author='Goldstein')\n",
    "df = cleanup_dataframe(q.dataframe(max_rows=300))"
   ]
  },
  {
   "cell_type": "code",
   "execution_count": null,
   "metadata": {},
   "outputs": [],
   "source": [
    "oxides = ['MgO', 'SiO2']\n",
    "fig, ax = plt.subplots(1, 3, figsize=(12, 4))\n",
    "for ix, mode in enumerate(['density', 'hist2d', 'hexbin']):\n",
    "    densityplot(df, ax=ax[ix], components=oxides, mode=mode, bins=15, colorbar=True)\n",
    "\n",
    "save_figure(fig, name='density', save_at=\"./../docs/resources\",save_fmts=['png'],)"
   ]
  },
  {
   "cell_type": "code",
   "execution_count": null,
   "metadata": {},
   "outputs": [],
   "source": []
  }
 ],
 "metadata": {
  "kernelspec": {
   "display_name": "Python 3",
   "language": "python",
   "name": "python3"
  },
  "language_info": {
   "codemirror_mode": {
    "name": "ipython",
    "version": 3
   },
   "file_extension": ".py",
   "mimetype": "text/x-python",
   "name": "python",
   "nbconvert_exporter": "python",
   "pygments_lexer": "ipython3",
   "version": "3.10.12"
  }
 },
 "nbformat": 4,
 "nbformat_minor": 2
}
